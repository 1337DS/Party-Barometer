{
  "nbformat": 4,
  "nbformat_minor": 0,
  "metadata": {
    "colab": {
      "name": "wetter.ipynb",
      "provenance": [],
      "collapsed_sections": [],
      "include_colab_link": true
    },
    "kernelspec": {
      "name": "python3",
      "display_name": "Python 3"
    },
    "language_info": {
      "name": "python"
    }
  },
  "cells": [
    {
      "cell_type": "markdown",
      "metadata": {
        "id": "view-in-github",
        "colab_type": "text"
      },
      "source": [
        "<a href=\"https://colab.research.google.com/github/1337DS/Party-Barometer/blob/teil2_einzelwertung/Barometer.ipynb\" target=\"_parent\"><img src=\"https://colab.research.google.com/assets/colab-badge.svg\" alt=\"Open In Colab\"/></a>"
      ]
    },
    {
      "cell_type": "code",
      "execution_count": null,
      "metadata": {
        "colab": {
          "base_uri": "https://localhost:8080/"
        },
        "id": "ccX_Z6Hyk4aV",
        "outputId": "4a83b303-0573-49c6-e590-b0447e0b66f9"
      },
      "outputs": [
        {
          "output_type": "stream",
          "name": "stdout",
          "text": [
            "Looking in indexes: https://pypi.org/simple, https://us-python.pkg.dev/colab-wheels/public/simple/\n",
            "Requirement already satisfied: requests in /usr/local/lib/python3.7/dist-packages (2.23.0)\n",
            "Requirement already satisfied: certifi>=2017.4.17 in /usr/local/lib/python3.7/dist-packages (from requests) (2022.6.15)\n",
            "Requirement already satisfied: urllib3!=1.25.0,!=1.25.1,<1.26,>=1.21.1 in /usr/local/lib/python3.7/dist-packages (from requests) (1.24.3)\n",
            "Requirement already satisfied: idna<3,>=2.5 in /usr/local/lib/python3.7/dist-packages (from requests) (2.10)\n",
            "Requirement already satisfied: chardet<4,>=3.0.2 in /usr/local/lib/python3.7/dist-packages (from requests) (3.0.4)\n"
          ]
        }
      ],
      "source": [
        "!pip3 install requests"
      ]
    },
    {
      "cell_type": "code",
      "source": [
        "import requests\n",
        "from datetime import datetime, timedelta\n"
      ],
      "metadata": {
        "id": "hFJLizMg4fxe"
      },
      "execution_count": 1,
      "outputs": []
    },
    {
      "cell_type": "markdown",
      "source": [
        "# Abfrage Regen"
      ],
      "metadata": {
        "id": "wtcmwGfJvf9a"
      }
    },
    {
      "cell_type": "code",
      "source": [
        "def calc_regenscore():\n",
        "  \"\"\"Frägt die Wettervorhersage für Mannheim im 3-Std Rhythmus ab und gibt zurück, an wievielen Zeitpunkten zwischen heute 18:00 \n",
        "  und morgen 03:00 Uhr die Wettervorhersage Regen beinhaltet\"\"\"\n",
        "  api_key = \"ca43b31915cb2b6af64970e1835b94d6\"  # Bitte nicht missbrauchen\n",
        "  base_url = \"http://api.openweathermap.org/data/2.5/forecast?\"\n",
        "\n",
        "  #city_name = input(\"Enter city name : \")\n",
        "  city_name=\"Mannheim\"\n",
        "  complete_url = base_url + \"appid=\" + 'd850f7f52bf19300a9eb4b0aa6b80f0d' + \"&q=\" + city_name  # Vervollständigung der URL\n",
        "  response = requests.get(complete_url)\n",
        "  antwort_json = response.json()\n",
        "\n",
        "\n",
        "  if antwort_json[\"cod\"] != \"404\":\n",
        "      regenscore=0\n",
        "      for vorhersage_punkt in antwort_json[\"list\"]:\n",
        "        #print(vorhersage_punkt[\"dt_txt\"][-12:])\n",
        "        kalendertag = datetime.today().strftime(\"%d\")\n",
        "        kalendertag_morgen = datetime.today() + timedelta(days=1)\n",
        "        kalendertag_morgen=kalendertag_morgen.strftime(\"%d\")\n",
        "        \n",
        "        if (vorhersage_punkt[\"dt_txt\"][-11:] in [kalendertag+' 18:00:00',kalendertag+' 21:00:00'])or vorhersage_punkt[\"dt_txt\"][-11:] in [kalendertag_morgen+' 00:00:00',kalendertag_morgen+' 03:00:00']:\n",
        "        \n",
        "        #if vorhersage_punkt[\"dt_txt\"][-11:] in [kalendertag_morgen+ ' 00:00:00',kalendertag_morgen+' 03:00:00']:\n",
        "\n",
        "        # evtl kann man hier noch die Temperatur mit einbeziehen\n",
        "        # z.B. wenn es viel zu heiss oder zu kalt ist\n",
        "        # current_temperature = y[\"temp\"]\n",
        "        \n",
        "          wetterdaten = vorhersage_punkt[\"weather\"]\n",
        "          weather_description = wetterdaten[0][\"description\"]\n",
        "      #    weather_main = wetterdaten[0][\"main\"]\n",
        "\n",
        "          print(vorhersage_punkt[\"dt_txt\"]+\" Wetter (Beschreibung) = \" +\n",
        "                          str(weather_description))\n",
        "                          # \" Wetter (main) = \" +\n",
        "                          # str(weather_main))\n",
        "    \n",
        "          if 'rain' in weather_description:\n",
        "              regenscore+=1\n",
        "              print(regenscore)\n",
        "\n",
        "        return regenscore \n",
        "\n",
        "  else:\n",
        "      print(\" Fehler bei Abfrage der Wetterdaten\")"
      ],
      "metadata": {
        "id": "GUFfFoE-4RSU"
      },
      "execution_count": 2,
      "outputs": []
    },
    {
      "cell_type": "code",
      "source": [
        "b=calc_regenscore()"
      ],
      "metadata": {
        "id": "T2KRZpPQ6Wtp",
        "colab": {
          "base_uri": "https://localhost:8080/"
        },
        "outputId": "11914294-f826-46b1-ad56-838c1ca89abd"
      },
      "execution_count": 3,
      "outputs": [
        {
          "output_type": "stream",
          "name": "stdout",
          "text": [
            "2022-08-11 21:00:00 Wetter (Beschreibung) = broken clouds\n"
          ]
        }
      ]
    },
    {
      "cell_type": "code",
      "source": [
        "print(b)"
      ],
      "metadata": {
        "colab": {
          "base_uri": "https://localhost:8080/"
        },
        "id": "PhFBKvCt6ZxW",
        "outputId": "33884586-9dd2-4449-af92-6b52ef119bf1"
      },
      "execution_count": 4,
      "outputs": [
        {
          "output_type": "stream",
          "name": "stdout",
          "text": [
            "0\n"
          ]
        }
      ]
    },
    {
      "cell_type": "markdown",
      "source": [
        "# Abfrage Events"
      ],
      "metadata": {
        "id": "QpHZjF0pVPQL"
      }
    },
    {
      "cell_type": "code",
      "source": [
        "from bs4 import BeautifulSoup\n",
        "import requests\n",
        "\n",
        "#Webscraping Club Chalpin\n",
        "URL = 'https://www.chaplin-club.de/event/' \n",
        "chaplin = requests.get(URL)\n",
        "soup_chaplin = BeautifulSoup(chaplin.text, 'html.parser')\n",
        "list=soup_chaplin.find_all('time',{'class': 'tribe-events-calendar-list__event-date-tag-datetime'})\n",
        "list_date=soup_chaplin.find_all('span',{'class': 'tribe-events-calendar-list__event-date-tag-daynum'})\n",
        "list_days=[]\n",
        "\n",
        "#Filtern der Daten\n",
        "for span in list_date:\n",
        "  list_days.append(span.text)\n",
        "list_numbers =[]\n",
        "for i in list_days:\n",
        "  list_numbers.append([int(temp)for temp in i.split() if temp.isdigit()])\n",
        "dates=[]\n",
        "for i in range(len(list_numbers)):\n",
        "  dates.append(list_numbers[i][0])\n",
        "\n",
        "from datetime import datetime,date\n",
        "\n",
        "#Anpassung der Daten mit Monat und Jahr\n",
        "month = datetime.now().month\n",
        "year = datetime.now().year\n",
        "\n",
        "\n",
        "event_dates=[]\n",
        "checker = True\n",
        "for i in range(len(dates)-1):\n",
        "  if dates[i]<dates[i+1]:\n",
        "    if checker == True:\n",
        "      dummy = str(dates[i])+'-'+str(month)+'-'+str(year)\n",
        "      dummy_2 = datetime.strptime(dummy,'%d-%m-%Y').date()\n",
        "      event_dates.append(dummy_2)\n",
        "  else:\n",
        "      checker = False\n",
        "\n",
        "#Überprüfung der Eventzahl --> Kann noch durch weitere Clubs erweitert werden \n",
        "today = date.today()\n",
        "events = 0\n",
        "for i in range(len(event_dates)):\n",
        "  if event_dates[i] == today:\n",
        "    events +=1"
      ],
      "metadata": {
        "id": "R70hkmpaVUiw"
      },
      "execution_count": 5,
      "outputs": []
    },
    {
      "cell_type": "code",
      "source": [
        "events"
      ],
      "metadata": {
        "id": "1MG7u1k5WTqz",
        "outputId": "dc77177f-f478-43a2-e49b-c24efff01c5f",
        "colab": {
          "base_uri": "https://localhost:8080/"
        }
      },
      "execution_count": 6,
      "outputs": [
        {
          "output_type": "execute_result",
          "data": {
            "text/plain": [
              "1"
            ]
          },
          "metadata": {},
          "execution_count": 6
        }
      ]
    },
    {
      "cell_type": "markdown",
      "source": [
        "# Abfrage Studenten"
      ],
      "metadata": {
        "id": "2EXWio_gXJ74"
      }
    },
    {
      "cell_type": "code",
      "source": [
        "!wget https://www.uni-mannheim.de/media/Universitaet/Dokumente/Studierendenstatistik/2020-/Studierendenstatistik_FSS_2022_UniMA.pdf -O StudentenUni.pdf \n",
        "!pip install pdfplumber"
      ],
      "metadata": {
        "id": "yqIrSQG5a7VM",
        "outputId": "fecfa5a7-de68-48fc-9ac1-7060dcc6d515",
        "colab": {
          "base_uri": "https://localhost:8080/",
          "height": 728
        }
      },
      "execution_count": 9,
      "outputs": [
        {
          "output_type": "stream",
          "name": "stdout",
          "text": [
            "--2022-08-11 19:41:39--  https://www.uni-mannheim.de/media/Universitaet/Dokumente/Studierendenstatistik/2020-/Studierendenstatistik_FSS_2022_UniMA.pdf\n",
            "Resolving www.uni-mannheim.de (www.uni-mannheim.de)... 134.155.101.1, 2001:7c0:2900:64::869b:6501\n",
            "Connecting to www.uni-mannheim.de (www.uni-mannheim.de)|134.155.101.1|:443... connected.\n",
            "HTTP request sent, awaiting response... 200 OK\n",
            "Length: 968335 (946K) [application/pdf]\n",
            "Saving to: ‘StudentenUni.pdf’\n",
            "\n",
            "\rStudentenUni.pdf      0%[                    ]       0  --.-KB/s               \rStudentenUni.pdf    100%[===================>] 945.64K  --.-KB/s    in 0.07s   \n",
            "\n",
            "2022-08-11 19:41:39 (14.1 MB/s) - ‘StudentenUni.pdf’ saved [968335/968335]\n",
            "\n",
            "Looking in indexes: https://pypi.org/simple, https://us-python.pkg.dev/colab-wheels/public/simple/\n",
            "Collecting pdfplumber\n",
            "  Downloading pdfplumber-0.7.4-py3-none-any.whl (40 kB)\n",
            "\u001b[K     |████████████████████████████████| 40 kB 4.3 MB/s \n",
            "\u001b[?25hCollecting Pillow>=9.1\n",
            "  Downloading Pillow-9.2.0-cp37-cp37m-manylinux_2_17_x86_64.manylinux2014_x86_64.whl (3.1 MB)\n",
            "\u001b[K     |████████████████████████████████| 3.1 MB 21.9 MB/s \n",
            "\u001b[?25hCollecting Wand>=0.6.7\n",
            "  Downloading Wand-0.6.9-py2.py3-none-any.whl (142 kB)\n",
            "\u001b[K     |████████████████████████████████| 142 kB 65.8 MB/s \n",
            "\u001b[?25hCollecting pdfminer.six==20220524\n",
            "  Downloading pdfminer.six-20220524-py3-none-any.whl (5.6 MB)\n",
            "\u001b[K     |████████████████████████████████| 5.6 MB 60.5 MB/s \n",
            "\u001b[?25hCollecting cryptography>=36.0.0\n",
            "  Downloading cryptography-37.0.4-cp36-abi3-manylinux_2_24_x86_64.whl (4.1 MB)\n",
            "\u001b[K     |████████████████████████████████| 4.1 MB 53.3 MB/s \n",
            "\u001b[?25hRequirement already satisfied: charset-normalizer>=2.0.0 in /usr/local/lib/python3.7/dist-packages (from pdfminer.six==20220524->pdfplumber) (2.1.0)\n",
            "Requirement already satisfied: cffi>=1.12 in /usr/local/lib/python3.7/dist-packages (from cryptography>=36.0.0->pdfminer.six==20220524->pdfplumber) (1.15.1)\n",
            "Requirement already satisfied: pycparser in /usr/local/lib/python3.7/dist-packages (from cffi>=1.12->cryptography>=36.0.0->pdfminer.six==20220524->pdfplumber) (2.21)\n",
            "Installing collected packages: cryptography, Wand, Pillow, pdfminer.six, pdfplumber\n",
            "  Attempting uninstall: Pillow\n",
            "    Found existing installation: Pillow 7.1.2\n",
            "    Uninstalling Pillow-7.1.2:\n",
            "      Successfully uninstalled Pillow-7.1.2\n",
            "Successfully installed Pillow-9.2.0 Wand-0.6.9 cryptography-37.0.4 pdfminer.six-20220524 pdfplumber-0.7.4\n"
          ]
        },
        {
          "output_type": "display_data",
          "data": {
            "application/vnd.colab-display-data+json": {
              "pip_warning": {
                "packages": [
                  "PIL"
                ]
              }
            }
          },
          "metadata": {}
        }
      ]
    },
    {
      "cell_type": "code",
      "source": [
        "\n",
        "\n",
        "import pdfplumber\n",
        "from os import replace\n",
        "with pdfplumber.open('StudentenUni.pdf') as pdf:\n",
        "    gesamtstatistik = pdf.pages[4]\n",
        "    print(gesamtstatistik.extract_tables())\n",
        "\n",
        "dict_anzahl_studenten={}\n",
        "dict_anzahl_studenten['jura_ges']=int(gesamtstatistik.crop((408.53, 194.33000000000004, 433.67911999999995, 205.37)).extract_text().replace(\".\",\"\"))\n",
        "dict_anzahl_studenten['jura_w']=int(gesamtstatistik.crop((473.59, 194.33000000000004, 498.73912, 205.37)).extract_text().replace(\".\",\"\"))\n",
        "dict_anzahl_studenten['vwl_ges']=int(gesamtstatistik.crop((408.53, 210.77, 433.67911999999995, 221.81)).extract_text().replace(\".\",\"\"))\n",
        "dict_anzahl_studenten['vwl_w']=int(gesamtstatistik.crop((473.59, 210.77, 498.73912, 221.81)).extract_text().replace(\".\",\"\"))\n",
        "dict_anzahl_studenten['bwl_ges']=int(gesamtstatistik.crop((408.53, 227.81000000000006, 434, 238.85000000000002)).extract_text().replace(\".\",\"\"))\n",
        "dict_anzahl_studenten['bwl_w']=int(gesamtstatistik.crop((473.59, 227.81000000000006, 498.73912, 238.85000000000002)).extract_text().replace(\".\",\"\"))\n",
        "dict_anzahl_studenten['sozi_ges']=int(gesamtstatistik.crop((408.53, 244.73000000000008, 434, 255.77000000000004)).extract_text().replace(\".\",\"\"))\n",
        "dict_anzahl_studenten['sozi_w']=int(gesamtstatistik.crop((473.59, 244.73000000000008, 498.73912, 255.77000000000004)).extract_text().replace(\".\",\"\"))\n",
        "dict_anzahl_studenten['philo_ges']=int(gesamtstatistik.crop((408.53, 261.77000000000004, 434, 272.81)).extract_text().replace(\".\",\"\"))\n",
        "dict_anzahl_studenten['philo_w']=int(gesamtstatistik.crop((473.59, 261.77000000000004, 498.73912, 272.81)).extract_text().replace(\".\",\"\"))\n",
        "dict_anzahl_studenten['wiinf_ges']=int(gesamtstatistik.crop((408.53, 278.81000000000006, 434, 289.85)).extract_text().replace(\".\",\"\"))\n",
        "dict_anzahl_studenten['wiinf_w']=int(gesamtstatistik.crop((473.59, 278.81000000000006, 498.73912, 289.85)).extract_text().replace(\".\",\"\"))  "
      ],
      "metadata": {
        "id": "QMSGm5D_XL5g",
        "outputId": "9eab4fbe-7099-4f99-a863-3130f5ad393e",
        "colab": {
          "base_uri": "https://localhost:8080/"
        }
      },
      "execution_count": 7,
      "outputs": [
        {
          "output_type": "stream",
          "name": "stdout",
          "text": [
            "[]\n"
          ]
        }
      ]
    },
    {
      "cell_type": "code",
      "source": [
        "dict_anzahl_studenten"
      ],
      "metadata": {
        "id": "4Jt_OTORb2yX",
        "outputId": "2c41eff8-9e94-4e2b-b346-d8ad3124faa4",
        "colab": {
          "base_uri": "https://localhost:8080/"
        }
      },
      "execution_count": 9,
      "outputs": [
        {
          "output_type": "execute_result",
          "data": {
            "text/plain": [
              "{'bwl_ges': 3132,\n",
              " 'bwl_w': 1397,\n",
              " 'jura_ges': 1442,\n",
              " 'jura_w': 787,\n",
              " 'philo_ges': 2105,\n",
              " 'philo_w': 1581,\n",
              " 'sozi_ges': 1525,\n",
              " 'sozi_w': 1047,\n",
              " 'vwl_ges': 848,\n",
              " 'vwl_w': 227,\n",
              " 'wiinf_ges': 1129,\n",
              " 'wiinf_w': 343}"
            ]
          },
          "metadata": {},
          "execution_count": 9
        }
      ]
    },
    {
      "cell_type": "code",
      "source": [
        "studenten = int(dict_anzahl_studenten['bwl_ges']) + int(dict_anzahl_studenten['philo_ges']) + int(dict_anzahl_studenten['jura_ges']) + int(dict_anzahl_studenten['vwl_ges']) + int(dict_anzahl_studenten['wiinf_ges']) + int(dict_anzahl_studenten['sozi_ges'])\n",
        "studenten"
      ],
      "metadata": {
        "id": "8s2vepmkv5Td",
        "outputId": "090c995a-4e30-4901-e31e-89bec270f220",
        "colab": {
          "base_uri": "https://localhost:8080/"
        }
      },
      "execution_count": 26,
      "outputs": [
        {
          "output_type": "execute_result",
          "data": {
            "text/plain": [
              "10181"
            ]
          },
          "metadata": {},
          "execution_count": 26
        }
      ]
    },
    {
      "cell_type": "markdown",
      "source": [
        "# Abfrage Prüfungen"
      ],
      "metadata": {
        "id": "WX67k8X2cIAf"
      }
    },
    {
      "cell_type": "code",
      "source": [
        "URL = 'https://www.uni-mannheim.de/pruefungstermine/pruefungen-ersttermine-bachelor/' \n",
        "website = requests.get(URL)\n",
        "soup = BeautifulSoup(website.text, 'html.parser')\n",
        "\n",
        "list=soup.find_all('div',{'class': 'tx-uma-portal-exam-category'})\n",
        "\n",
        "prüfungen = 0\n",
        "\n",
        "\n",
        "for i in list:\n",
        "  print(i.find('h2'))\n",
        "  for t in (i.find_all('td')):\n",
        "    if \"2022\" in t.text:\n",
        "      print(t.text)\n",
        "      # Aufaddieren der Prüfungen am aktuellen Tag\n",
        "      dates_test=t.text\n",
        "      dates_prüfungen = datetime.strptime(dates_test, '%d.%m.%Y')\n",
        "      if today == dates_prüfungen:\n",
        "        prüfungen += 1"
      ],
      "metadata": {
        "id": "tsNJAeZCcJk9",
        "outputId": "3cb97034-b178-47de-ff12-b204e272b35a",
        "colab": {
          "base_uri": "https://localhost:8080/"
        }
      },
      "execution_count": 19,
      "outputs": [
        {
          "output_type": "stream",
          "name": "stdout",
          "text": [
            "<h2>Bachelor Anglistik/<wbr/>Amerikanistik / CELLS</h2>\n",
            "04.06.2022\n",
            "07.06.2022\n",
            "07.06.2022\n",
            "08.06.2022\n",
            "08.06.2022\n",
            "09.06.2022\n",
            "09.06.2022\n",
            "10.06.2022\n",
            "10.06.2022\n",
            "10.06.2022\n",
            "11.06.2022\n",
            "11.06.2022\n",
            "11.06.2022\n",
            "13.06.2022\n",
            "13.06.2022\n",
            "13.06.2022\n",
            "14.06.2022\n",
            "14.06.2022\n",
            "14.06.2022\n",
            "15.06.2022\n",
            "15.06.2022\n",
            "15.06.2022\n",
            "17.06.2022\n",
            "17.06.2022\n",
            "17.06.2022\n",
            "18.06.2022\n",
            "<h2>Bachelor Beifach Öffentliches Recht</h2>\n",
            "09.06.2022\n",
            "13.06.2022\n",
            "<h2>Bachelor Beifach Psychologie</h2>\n",
            "04.06.2022\n",
            "04.06.2022\n",
            "07.06.2022\n",
            "08.06.2022\n",
            "09.06.2022\n",
            "<h2>Bachelor Betriebs­wirtschafts­lehre 2. Semester</h2>\n",
            "04.06.2022\n",
            "08.06.2022\n",
            "14.06.2022\n",
            "17.06.2022\n",
            "<h2>Bachelor Betriebs­wirtschafts­lehre 4. Semester</h2>\n",
            "06.04.2022\n",
            "07.04.2022\n",
            "08.04.2022\n",
            "08.04.2022\n",
            "27.04.2022\n",
            "06.05.2022\n",
            "20.05.2022\n",
            "20.05.2022\n",
            "07.06.2022\n",
            "09.06.2022\n",
            "10.06.2022\n",
            "10.06.2022\n",
            "10.06.2022\n",
            "11.06.2022\n",
            "11.06.2022\n",
            "13.06.2022\n",
            "13.06.2022\n",
            "15.06.2022\n",
            "18.06.2022\n",
            "18.06.2022\n",
            "<h2>Bachelor Betriebs­wirtschafts­lehre 6. Semester</h2>\n",
            "28.03.2022\n",
            "30.03.2022\n",
            "01.04.2022\n",
            "08.06.2022\n",
            "13.06.2022\n",
            "<h2>Bachelor Exchange Students</h2>\n",
            "04.04.2022\n",
            "07.06.2022\n",
            "08.06.2022\n",
            "<h2>Bachelor Germanistik</h2>\n",
            "02.04.2022\n",
            "13.06.2022\n",
            "15.06.2022\n",
            "17.06.2022\n",
            "<h2>Bachelor Geschichte</h2>\n",
            "09.06.2022\n",
            "10.06.2022\n",
            "11.06.2022\n",
            "14.06.2022\n",
            "17.06.2022\n",
            "<h2>Bachelor Kultur und Wirtschaft Sachfach BWL</h2>\n",
            "04.06.2022\n",
            "11.06.2022\n",
            "13.06.2022\n",
            "17.06.2022\n",
            "<h2>Bachelor Medien- und Kommunikations­wissenschaft</h2>\n",
            "07.06.2022\n",
            "10.06.2022\n",
            "15.06.2022\n",
            "17.06.2022\n",
            "17.06.2022\n",
            "<h2>Bachelor Philosophie</h2>\n",
            "08.06.2022\n",
            "13.06.2022\n",
            "15.06.2022\n",
            "<h2>Bachelor Politik­wissenschaft</h2>\n",
            "25.05.2022\n",
            "08.06.2022\n",
            "09.06.2022\n",
            "10.06.2022\n",
            "15.06.2022\n",
            "17.06.2022\n",
            "<h2>Bachelor Psychologie</h2>\n",
            "04.06.2022\n",
            "07.06.2022\n",
            "08.06.2022\n",
            "08.06.2022\n",
            "08.06.2022\n",
            "09.06.2022\n",
            "10.06.2022\n",
            "14.06.2022\n",
            "14.06.2022\n",
            "15.06.2022\n",
            "17.06.2022\n",
            "18.06.2022\n",
            "18.06.2022\n",
            "29.08.2022\n",
            "<h2>Bachelor Romanistik</h2>\n",
            "04.06.2022\n",
            "04.06.2022\n",
            "04.06.2022\n",
            "04.06.2022\n",
            "07.06.2022\n",
            "07.06.2022\n",
            "07.06.2022\n",
            "07.06.2022\n",
            "07.06.2022\n",
            "08.06.2022\n",
            "08.06.2022\n",
            "08.06.2022\n",
            "08.06.2022\n",
            "08.06.2022\n",
            "09.06.2022\n",
            "09.06.2022\n",
            "09.06.2022\n",
            "09.06.2022\n",
            "10.06.2022\n",
            "10.06.2022\n",
            "10.06.2022\n",
            "10.06.2022\n",
            "11.06.2022\n",
            "11.06.2022\n",
            "11.06.2022\n",
            "13.06.2022\n",
            "13.06.2022\n",
            "13.06.2022\n",
            "13.06.2022\n",
            "13.06.2022\n",
            "13.06.2022\n",
            "14.06.2022\n",
            "14.06.2022\n",
            "14.06.2022\n",
            "14.06.2022\n",
            "14.06.2022\n",
            "14.06.2022\n",
            "14.06.2022\n",
            "15.06.2022\n",
            "15.06.2022\n",
            "15.06.2022\n",
            "15.06.2022\n",
            "15.06.2022\n",
            "17.06.2022\n",
            "17.06.2022\n",
            "17.06.2022\n",
            "17.06.2022\n",
            "17.06.2022\n",
            "17.06.2022\n",
            "18.06.2022\n",
            "<h2>Bachelor Soziologie</h2>\n",
            "04.04.2022\n",
            "08.06.2022\n",
            "08.06.2022\n",
            "09.06.2022\n",
            "10.06.2022\n",
            "14.06.2022\n",
            "17.06.2022\n",
            "<h2>Bachelor Volkswirtschafts­lehre 2. Semester</h2>\n",
            "09.06.2022\n",
            "11.06.2022\n",
            "11.06.2022\n",
            "18.06.2022\n",
            "18.06.2022\n",
            "<h2>Bachelor Volkswirtschafts­lehre 4. Semester</h2>\n",
            "07.06.2022\n",
            "10.06.2022\n",
            "15.06.2022\n",
            "<h2>Bachelor Volkswirtschafts­lehre 6. Semester</h2>\n",
            "04.06.2022\n",
            "04.06.2022\n",
            "07.06.2022\n",
            "07.06.2022\n",
            "08.06.2022\n",
            "08.06.2022\n",
            "09.06.2022\n",
            "09.06.2022\n",
            "10.06.2022\n",
            "10.06.2022\n",
            "13.06.2022\n",
            "13.06.2022\n",
            "13.06.2022\n",
            "14.06.2022\n",
            "14.06.2022\n",
            "15.06.2022\n",
            "17.06.2022\n",
            "17.06.2022\n",
            "17.06.2022\n",
            "18.06.2022\n",
            "<h2>Bachelor Wirtschafts­informatik</h2>\n",
            "05.04.2022\n",
            "04.06.2022\n",
            "04.06.2022\n",
            "07.06.2022\n",
            "08.06.2022\n",
            "09.06.2022\n",
            "10.06.2022\n",
            "11.06.2022\n",
            "13.06.2022\n",
            "14.06.2022\n",
            "15.06.2022\n",
            "17.06.2022\n",
            "18.06.2022\n",
            "<h2>Bachelor Wirtschafts­mathematik</h2>\n",
            "30.04.2022\n",
            "03.06.2022\n",
            "04.06.2022\n",
            "07.06.2022\n",
            "08.06.2022\n",
            "09.06.2022\n",
            "11.06.2022\n",
            "11.06.2022\n",
            "13.06.2022\n",
            "14.06.2022\n",
            "15.06.2022\n",
            "15.06.2022\n",
            "17.06.2022\n",
            "18.06.2022\n",
            "18.06.2022\n",
            "<h2>Bachelor Wirtschafts­pädagogik 2. Semester</h2>\n",
            "04.06.2022\n",
            "08.06.2022\n",
            "13.06.2022\n",
            "15.06.2022\n",
            "<h2>Bachelor Wirtschafts­pädagogik  4. Semester</h2>\n",
            "07.06.2022\n",
            "09.06.2022\n",
            "11.06.2022\n",
            "11.06.2022\n",
            "14.06.2022\n",
            "18.06.2022\n",
            "18.06.2022\n",
            "<h2>Bachelor Wirtschafts­pädagogik 6. Semester</h2>\n",
            "17.06.2022\n",
            "<h2>Kombinations­studien­gang Unternehmens­jurist (LL.B./<wbr/>Staats­examen)</h2>\n",
            "26.02.2022\n",
            "04.03.2022\n",
            "09.03.2022\n",
            "11.03.2022\n",
            "15.03.2022\n",
            "18.03.2022\n",
            "19.03.2022\n",
            "26.03.2022\n",
            "04.04.2022\n",
            "06.04.2022\n",
            "09.04.2022\n",
            "26.04.2022\n",
            "29.04.2022\n",
            "06.05.2022\n",
            "07.05.2022\n",
            "11.05.2022\n",
            "13.05.2022\n",
            "17.05.2022\n",
            "21.05.2022\n",
            "23.05.2022\n",
            "27.05.2022\n",
            "03.06.2022\n",
            "04.06.2022\n",
            "08.06.2022\n",
            "09.06.2022\n",
            "10.06.2022\n",
            "11.06.2022\n",
            "13.06.2022\n",
            "14.06.2022\n",
            "15.06.2022\n",
            "17.06.2022\n",
            "21.07.2022\n"
          ]
        }
      ]
    },
    {
      "cell_type": "code",
      "source": [
        "prüfungen"
      ],
      "metadata": {
        "id": "WRkO00lIgU7_",
        "outputId": "7829331e-15a9-46a1-9fc5-9bed546e1a73",
        "colab": {
          "base_uri": "https://localhost:8080/"
        }
      },
      "execution_count": 20,
      "outputs": [
        {
          "output_type": "execute_result",
          "data": {
            "text/plain": [
              "0"
            ]
          },
          "metadata": {},
          "execution_count": 20
        }
      ]
    },
    {
      "cell_type": "markdown",
      "source": [
        "# Geldfaktor"
      ],
      "metadata": {
        "id": "VQKET3pmiNlX"
      }
    },
    {
      "cell_type": "code",
      "source": [
        "#In der Regel bekommt man Ende des Montas das gehalt\n",
        "gehalt = str(25)+'-'+str(month)+'-'+str(year)\n",
        "gehalt = datetime.strptime(gehalt,'%d-%m-%Y').date()\n",
        "#In der Mitte des Monats ist am wenigsten Geld vorhanden \n",
        "gehalt_weg = str(15)+'-'+str(month)+'-'+str(year)\n",
        "gehalt_weg = datetime.strptime(gehalt_weg,'%d-%m-%Y').date()\n",
        "\n",
        "if today > gehalt or today < gehalt_weg: \n",
        "  geldfaktor = 5\n",
        "else:\n",
        "  geldfaktor = -5\n",
        "geldfaktor"
      ],
      "metadata": {
        "id": "WPm2TteCiotJ",
        "outputId": "e033dcca-c0ee-4a7c-c1da-78ef205b6fce",
        "colab": {
          "base_uri": "https://localhost:8080/"
        }
      },
      "execution_count": 23,
      "outputs": [
        {
          "output_type": "execute_result",
          "data": {
            "text/plain": [
              "5"
            ]
          },
          "metadata": {},
          "execution_count": 23
        }
      ]
    },
    {
      "cell_type": "markdown",
      "source": [
        "## Barometererrechnung "
      ],
      "metadata": {
        "id": "RPtzgHqto3fy"
      }
    },
    {
      "cell_type": "code",
      "source": [
        "base = 100\n",
        "\n",
        "# Geldfaktor\n",
        "base += geldfaktor\n",
        "\n",
        "# Anzahl Prüfungen --> Gewichtung Prüfungen mal Studenten mit einer Skalierung von 10000, da die Studenten im 10000 Bereich sind \n",
        "prüfungen = prüfungen / studenten *10000\n",
        "base += prüfungen\n",
        "\n",
        "# Events --> Faktor 10 um die Events stärker zu gewichten\n",
        "events = events *10 \n",
        "base += events\n",
        "\n",
        "# Wetterfaktor --> Faktor 10 um das Wetter stärker zu gewichten\n",
        "b= b * 10\n",
        "base -= b"
      ],
      "metadata": {
        "id": "otsDJvFTq1NU",
        "outputId": "0945e4d4-4dec-473a-ddb4-6e3b00eb89f4",
        "colab": {
          "base_uri": "https://localhost:8080/",
          "height": 235
        }
      },
      "execution_count": 1,
      "outputs": [
        {
          "output_type": "error",
          "ename": "NameError",
          "evalue": "ignored",
          "traceback": [
            "\u001b[0;31m---------------------------------------------------------------------------\u001b[0m",
            "\u001b[0;31mNameError\u001b[0m                                 Traceback (most recent call last)",
            "\u001b[0;32m<ipython-input-1-af9ead53ab04>\u001b[0m in \u001b[0;36m<module>\u001b[0;34m()\u001b[0m\n\u001b[1;32m      2\u001b[0m \u001b[0;34m\u001b[0m\u001b[0m\n\u001b[1;32m      3\u001b[0m \u001b[0;31m# Geldfaktor\u001b[0m\u001b[0;34m\u001b[0m\u001b[0;34m\u001b[0m\u001b[0;34m\u001b[0m\u001b[0m\n\u001b[0;32m----> 4\u001b[0;31m \u001b[0mbase\u001b[0m \u001b[0;34m+=\u001b[0m \u001b[0mgeldfaktor\u001b[0m\u001b[0;34m\u001b[0m\u001b[0;34m\u001b[0m\u001b[0m\n\u001b[0m\u001b[1;32m      5\u001b[0m \u001b[0;34m\u001b[0m\u001b[0m\n\u001b[1;32m      6\u001b[0m \u001b[0;31m# Anzahl Prüfungen --> Gewichtung Prüfungen mal Studenten mit einer Skalierung von 10000, da die Studenten im 10000 Bereich sind\u001b[0m\u001b[0;34m\u001b[0m\u001b[0;34m\u001b[0m\u001b[0;34m\u001b[0m\u001b[0m\n",
            "\u001b[0;31mNameError\u001b[0m: name 'geldfaktor' is not defined"
          ]
        }
      ]
    }
  ]
}