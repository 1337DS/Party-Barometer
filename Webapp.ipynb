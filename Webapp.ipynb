{
  "nbformat": 4,
  "nbformat_minor": 0,
  "metadata": {
    "colab": {
      "name": "wetter.ipynb",
      "provenance": [],
      "collapsed_sections": [],
      "include_colab_link": true
    },
    "kernelspec": {
      "name": "python3",
      "display_name": "Python 3"
    },
    "language_info": {
      "name": "python"
    }
  },
  "cells": [
    {
      "cell_type": "markdown",
      "metadata": {
        "id": "view-in-github",
        "colab_type": "text"
      },
      "source": [
        "<a href=\"https://colab.research.google.com/github/1337DS/Party-Barometer/blob/teil2_einzelwertung/Webapp.ipynb\" target=\"_parent\"><img src=\"https://colab.research.google.com/assets/colab-badge.svg\" alt=\"Open In Colab\"/></a>"
      ]
    },
    {
      "cell_type": "code",
      "execution_count": 2,
      "metadata": {
        "colab": {
          "base_uri": "https://localhost:8080/"
        },
        "id": "ccX_Z6Hyk4aV",
        "outputId": "6b76364a-df16-4c0f-ab30-4ceb55263781"
      },
      "outputs": [
        {
          "output_type": "stream",
          "name": "stdout",
          "text": [
            "Looking in indexes: https://pypi.org/simple, https://us-python.pkg.dev/colab-wheels/public/simple/\n",
            "Requirement already satisfied: requests in /usr/local/lib/python3.7/dist-packages (2.23.0)\n",
            "Requirement already satisfied: certifi>=2017.4.17 in /usr/local/lib/python3.7/dist-packages (from requests) (2022.6.15)\n",
            "Requirement already satisfied: chardet<4,>=3.0.2 in /usr/local/lib/python3.7/dist-packages (from requests) (3.0.4)\n",
            "Requirement already satisfied: urllib3!=1.25.0,!=1.25.1,<1.26,>=1.21.1 in /usr/local/lib/python3.7/dist-packages (from requests) (1.24.3)\n",
            "Requirement already satisfied: idna<3,>=2.5 in /usr/local/lib/python3.7/dist-packages (from requests) (2.10)\n"
          ]
        }
      ],
      "source": [
        "!pip3 install requests"
      ]
    },
    {
      "cell_type": "code",
      "source": [
        "import requests\n",
        "from datetime import datetime, timedelta\n"
      ],
      "metadata": {
        "id": "hFJLizMg4fxe"
      },
      "execution_count": 3,
      "outputs": []
    },
    {
      "cell_type": "markdown",
      "source": [
        "# Abfrage Regen"
      ],
      "metadata": {
        "id": "wtcmwGfJvf9a"
      }
    },
    {
      "cell_type": "code",
      "source": [
        "def calc_regenscore():\n",
        "  \"\"\"Frägt die Wettervorhersage für Mannheim im 3-Std Rhythmus ab und gibt zurück, an wievielen Zeitpunkten zwischen heute 18:00 \n",
        "  und morgen 03:00 Uhr die Wettervorhersage Regen beinhaltet\"\"\"\n",
        "  api_key = \"ca43b31915cb2b6af64970e1835b94d6\"  # Bitte nicht missbrauchen\n",
        "  base_url = \"http://api.openweathermap.org/data/2.5/forecast?\"\n",
        "\n",
        "  #city_name = input(\"Enter city name : \")\n",
        "  city_name=\"Mannheim\"\n",
        "  complete_url = base_url + \"appid=\" + 'd850f7f52bf19300a9eb4b0aa6b80f0d' + \"&q=\" + city_name  # Vervollständigung der URL\n",
        "  response = requests.get(complete_url)\n",
        "  antwort_json = response.json()\n",
        "\n",
        "\n",
        "  if antwort_json[\"cod\"] != \"404\":\n",
        "      regenscore=0\n",
        "      for vorhersage_punkt in antwort_json[\"list\"]:\n",
        "        #print(vorhersage_punkt[\"dt_txt\"][-12:])\n",
        "        kalendertag = datetime.today().strftime(\"%d\")\n",
        "        kalendertag_morgen = datetime.today() + timedelta(days=1)\n",
        "        kalendertag_morgen=kalendertag_morgen.strftime(\"%d\")\n",
        "        \n",
        "        if (vorhersage_punkt[\"dt_txt\"][-11:] in [kalendertag+' 18:00:00',kalendertag+' 21:00:00'])or vorhersage_punkt[\"dt_txt\"][-11:] in [kalendertag_morgen+' 00:00:00',kalendertag_morgen+' 03:00:00']:\n",
        "        \n",
        "        #if vorhersage_punkt[\"dt_txt\"][-11:] in [kalendertag_morgen+ ' 00:00:00',kalendertag_morgen+' 03:00:00']:\n",
        "\n",
        "        # evtl kann man hier noch die Temperatur mit einbeziehen\n",
        "        # z.B. wenn es viel zu heiss oder zu kalt ist\n",
        "        # current_temperature = y[\"temp\"]\n",
        "        \n",
        "          wetterdaten = vorhersage_punkt[\"weather\"]\n",
        "          weather_description = wetterdaten[0][\"description\"]\n",
        "      #    weather_main = wetterdaten[0][\"main\"]\n",
        "\n",
        "          print(vorhersage_punkt[\"dt_txt\"]+\" Wetter (Beschreibung) = \" +\n",
        "                          str(weather_description))\n",
        "                          # \" Wetter (main) = \" +\n",
        "                          # str(weather_main))\n",
        "    \n",
        "          if 'rain' in weather_description:\n",
        "              regenscore+=1\n",
        "              print(regenscore)\n",
        "\n",
        "        return regenscore \n",
        "\n",
        "  else:\n",
        "      print(\" Fehler bei Abfrage der Wetterdaten\")"
      ],
      "metadata": {
        "id": "GUFfFoE-4RSU"
      },
      "execution_count": 4,
      "outputs": []
    },
    {
      "cell_type": "code",
      "source": [
        "b=calc_regenscore()"
      ],
      "metadata": {
        "id": "T2KRZpPQ6Wtp"
      },
      "execution_count": 5,
      "outputs": []
    },
    {
      "cell_type": "code",
      "source": [
        "print(b)"
      ],
      "metadata": {
        "colab": {
          "base_uri": "https://localhost:8080/"
        },
        "id": "PhFBKvCt6ZxW",
        "outputId": "08028e14-1605-4efc-ad7f-c6e9488827f5"
      },
      "execution_count": 6,
      "outputs": [
        {
          "output_type": "stream",
          "name": "stdout",
          "text": [
            "0\n"
          ]
        }
      ]
    },
    {
      "cell_type": "markdown",
      "source": [
        "# Abfrage Events"
      ],
      "metadata": {
        "id": "QpHZjF0pVPQL"
      }
    },
    {
      "cell_type": "code",
      "source": [
        "from bs4 import BeautifulSoup\n",
        "import requests\n",
        "\n",
        "#Webscraping Club Chalpin\n",
        "URL = 'https://www.chaplin-club.de/event/' \n",
        "chaplin = requests.get(URL)\n",
        "soup_chaplin = BeautifulSoup(chaplin.text, 'html.parser')\n",
        "list=soup_chaplin.find_all('time',{'class': 'tribe-events-calendar-list__event-date-tag-datetime'})\n",
        "list_date=soup_chaplin.find_all('span',{'class': 'tribe-events-calendar-list__event-date-tag-daynum'})\n",
        "list_days=[]\n",
        "\n",
        "#Filtern der Daten\n",
        "for span in list_date:\n",
        "  list_days.append(span.text)\n",
        "list_numbers =[]\n",
        "for i in list_days:\n",
        "  list_numbers.append([int(temp)for temp in i.split() if temp.isdigit()])\n",
        "dates=[]\n",
        "for i in range(len(list_numbers)):\n",
        "  dates.append(list_numbers[i][0])\n",
        "\n",
        "from datetime import datetime,date\n",
        "\n",
        "#Anpassung der Daten mit Monat und Jahr\n",
        "month = datetime.now().month\n",
        "year = datetime.now().year\n",
        "\n",
        "\n",
        "event_dates=[]\n",
        "checker = True\n",
        "for i in range(len(dates)-1):\n",
        "  if dates[i]<dates[i+1]:\n",
        "    if checker == True:\n",
        "      dummy = str(dates[i])+'-'+str(month)+'-'+str(year)\n",
        "      dummy_2 = datetime.strptime(dummy,'%d-%m-%Y').date()\n",
        "      event_dates.append(dummy_2)\n",
        "  else:\n",
        "      checker = False\n",
        "\n",
        "#Überprüfung der Eventzahl --> Kann noch durch weitere Clubs erweitert werden \n",
        "today = date.today()\n",
        "events = 0\n",
        "for i in range(len(event_dates)):\n",
        "  if event_dates[i] == today:\n",
        "    events +=1"
      ],
      "metadata": {
        "id": "R70hkmpaVUiw"
      },
      "execution_count": 27,
      "outputs": []
    },
    {
      "cell_type": "code",
      "source": [
        "events"
      ],
      "metadata": {
        "colab": {
          "base_uri": "https://localhost:8080/"
        },
        "id": "1MG7u1k5WTqz",
        "outputId": "a15c6cff-a0b3-48e5-af1a-32b1abc1ae7f"
      },
      "execution_count": 8,
      "outputs": [
        {
          "output_type": "execute_result",
          "data": {
            "text/plain": [
              "1"
            ]
          },
          "metadata": {},
          "execution_count": 8
        }
      ]
    },
    {
      "cell_type": "markdown",
      "source": [
        "# Abfrage Studenten"
      ],
      "metadata": {
        "id": "2EXWio_gXJ74"
      }
    },
    {
      "cell_type": "code",
      "source": [
        "!wget https://www.uni-mannheim.de/media/Universitaet/Dokumente/Studierendenstatistik/2020-/Studierendenstatistik_FSS_2022_UniMA.pdf -O StudentenUni.pdf \n",
        "!pip install pdfplumber"
      ],
      "metadata": {
        "colab": {
          "base_uri": "https://localhost:8080/",
          "height": 728
        },
        "id": "yqIrSQG5a7VM",
        "outputId": "54f0c785-ac9d-4a94-b7ae-3cbc127d0e5f"
      },
      "execution_count": 9,
      "outputs": [
        {
          "output_type": "stream",
          "name": "stdout",
          "text": [
            "--2022-08-12 02:39:54--  https://www.uni-mannheim.de/media/Universitaet/Dokumente/Studierendenstatistik/2020-/Studierendenstatistik_FSS_2022_UniMA.pdf\n",
            "Resolving www.uni-mannheim.de (www.uni-mannheim.de)... 134.155.101.1, 2001:7c0:2900:64::869b:6501\n",
            "Connecting to www.uni-mannheim.de (www.uni-mannheim.de)|134.155.101.1|:443... connected.\n",
            "HTTP request sent, awaiting response... 200 OK\n",
            "Length: 968335 (946K) [application/pdf]\n",
            "Saving to: ‘StudentenUni.pdf’\n",
            "\n",
            "StudentenUni.pdf    100%[===================>] 945.64K  1.02MB/s    in 0.9s    \n",
            "\n",
            "2022-08-12 02:39:56 (1.02 MB/s) - ‘StudentenUni.pdf’ saved [968335/968335]\n",
            "\n",
            "Looking in indexes: https://pypi.org/simple, https://us-python.pkg.dev/colab-wheels/public/simple/\n",
            "Collecting pdfplumber\n",
            "  Downloading pdfplumber-0.7.4-py3-none-any.whl (40 kB)\n",
            "\u001b[K     |████████████████████████████████| 40 kB 4.4 MB/s \n",
            "\u001b[?25hCollecting Pillow>=9.1\n",
            "  Downloading Pillow-9.2.0-cp37-cp37m-manylinux_2_17_x86_64.manylinux2014_x86_64.whl (3.1 MB)\n",
            "\u001b[K     |████████████████████████████████| 3.1 MB 16.1 MB/s \n",
            "\u001b[?25hCollecting pdfminer.six==20220524\n",
            "  Downloading pdfminer.six-20220524-py3-none-any.whl (5.6 MB)\n",
            "\u001b[K     |████████████████████████████████| 5.6 MB 36.4 MB/s \n",
            "\u001b[?25hCollecting Wand>=0.6.7\n",
            "  Downloading Wand-0.6.9-py2.py3-none-any.whl (142 kB)\n",
            "\u001b[K     |████████████████████████████████| 142 kB 53.4 MB/s \n",
            "\u001b[?25hCollecting cryptography>=36.0.0\n",
            "  Downloading cryptography-37.0.4-cp36-abi3-manylinux_2_24_x86_64.whl (4.1 MB)\n",
            "\u001b[K     |████████████████████████████████| 4.1 MB 41.4 MB/s \n",
            "\u001b[?25hRequirement already satisfied: charset-normalizer>=2.0.0 in /usr/local/lib/python3.7/dist-packages (from pdfminer.six==20220524->pdfplumber) (2.1.0)\n",
            "Requirement already satisfied: cffi>=1.12 in /usr/local/lib/python3.7/dist-packages (from cryptography>=36.0.0->pdfminer.six==20220524->pdfplumber) (1.15.1)\n",
            "Requirement already satisfied: pycparser in /usr/local/lib/python3.7/dist-packages (from cffi>=1.12->cryptography>=36.0.0->pdfminer.six==20220524->pdfplumber) (2.21)\n",
            "Installing collected packages: cryptography, Wand, Pillow, pdfminer.six, pdfplumber\n",
            "  Attempting uninstall: Pillow\n",
            "    Found existing installation: Pillow 7.1.2\n",
            "    Uninstalling Pillow-7.1.2:\n",
            "      Successfully uninstalled Pillow-7.1.2\n",
            "Successfully installed Pillow-9.2.0 Wand-0.6.9 cryptography-37.0.4 pdfminer.six-20220524 pdfplumber-0.7.4\n"
          ]
        },
        {
          "output_type": "display_data",
          "data": {
            "application/vnd.colab-display-data+json": {
              "pip_warning": {
                "packages": [
                  "PIL"
                ]
              }
            }
          },
          "metadata": {}
        }
      ]
    },
    {
      "cell_type": "code",
      "source": [
        "\n",
        "\n",
        "import pdfplumber\n",
        "from os import replace\n",
        "with pdfplumber.open('StudentenUni.pdf') as pdf:\n",
        "    gesamtstatistik = pdf.pages[4]\n",
        "    print(gesamtstatistik.extract_tables())\n",
        "\n",
        "dict_anzahl_studenten={}\n",
        "dict_anzahl_studenten['jura_ges']=int(gesamtstatistik.crop((408.53, 194.33000000000004, 433.67911999999995, 205.37)).extract_text().replace(\".\",\"\"))\n",
        "dict_anzahl_studenten['jura_w']=int(gesamtstatistik.crop((473.59, 194.33000000000004, 498.73912, 205.37)).extract_text().replace(\".\",\"\"))\n",
        "dict_anzahl_studenten['vwl_ges']=int(gesamtstatistik.crop((408.53, 210.77, 433.67911999999995, 221.81)).extract_text().replace(\".\",\"\"))\n",
        "dict_anzahl_studenten['vwl_w']=int(gesamtstatistik.crop((473.59, 210.77, 498.73912, 221.81)).extract_text().replace(\".\",\"\"))\n",
        "dict_anzahl_studenten['bwl_ges']=int(gesamtstatistik.crop((408.53, 227.81000000000006, 434, 238.85000000000002)).extract_text().replace(\".\",\"\"))\n",
        "dict_anzahl_studenten['bwl_w']=int(gesamtstatistik.crop((473.59, 227.81000000000006, 498.73912, 238.85000000000002)).extract_text().replace(\".\",\"\"))\n",
        "dict_anzahl_studenten['sozi_ges']=int(gesamtstatistik.crop((408.53, 244.73000000000008, 434, 255.77000000000004)).extract_text().replace(\".\",\"\"))\n",
        "dict_anzahl_studenten['sozi_w']=int(gesamtstatistik.crop((473.59, 244.73000000000008, 498.73912, 255.77000000000004)).extract_text().replace(\".\",\"\"))\n",
        "dict_anzahl_studenten['philo_ges']=int(gesamtstatistik.crop((408.53, 261.77000000000004, 434, 272.81)).extract_text().replace(\".\",\"\"))\n",
        "dict_anzahl_studenten['philo_w']=int(gesamtstatistik.crop((473.59, 261.77000000000004, 498.73912, 272.81)).extract_text().replace(\".\",\"\"))\n",
        "dict_anzahl_studenten['wiinf_ges']=int(gesamtstatistik.crop((408.53, 278.81000000000006, 434, 289.85)).extract_text().replace(\".\",\"\"))\n",
        "dict_anzahl_studenten['wiinf_w']=int(gesamtstatistik.crop((473.59, 278.81000000000006, 498.73912, 289.85)).extract_text().replace(\".\",\"\"))  "
      ],
      "metadata": {
        "colab": {
          "base_uri": "https://localhost:8080/"
        },
        "id": "QMSGm5D_XL5g",
        "outputId": "1ed0e4fc-1ee2-4a5d-9111-2d88c54ea70e"
      },
      "execution_count": 10,
      "outputs": [
        {
          "output_type": "stream",
          "name": "stdout",
          "text": [
            "[]\n"
          ]
        }
      ]
    },
    {
      "cell_type": "code",
      "source": [
        "dict_anzahl_studenten"
      ],
      "metadata": {
        "colab": {
          "base_uri": "https://localhost:8080/"
        },
        "id": "4Jt_OTORb2yX",
        "outputId": "4d1ae718-ca7e-4e69-f628-1d171bdfbd98"
      },
      "execution_count": 11,
      "outputs": [
        {
          "output_type": "execute_result",
          "data": {
            "text/plain": [
              "{'bwl_ges': 3132,\n",
              " 'bwl_w': 1397,\n",
              " 'jura_ges': 1442,\n",
              " 'jura_w': 787,\n",
              " 'philo_ges': 2105,\n",
              " 'philo_w': 1581,\n",
              " 'sozi_ges': 1525,\n",
              " 'sozi_w': 1047,\n",
              " 'vwl_ges': 848,\n",
              " 'vwl_w': 227,\n",
              " 'wiinf_ges': 1129,\n",
              " 'wiinf_w': 343}"
            ]
          },
          "metadata": {},
          "execution_count": 11
        }
      ]
    },
    {
      "cell_type": "code",
      "source": [
        "studenten = int(dict_anzahl_studenten['bwl_ges']) + int(dict_anzahl_studenten['philo_ges']) + int(dict_anzahl_studenten['jura_ges']) + int(dict_anzahl_studenten['vwl_ges']) + int(dict_anzahl_studenten['wiinf_ges']) + int(dict_anzahl_studenten['sozi_ges'])\n",
        "studenten"
      ],
      "metadata": {
        "colab": {
          "base_uri": "https://localhost:8080/"
        },
        "id": "8s2vepmkv5Td",
        "outputId": "20b0a7ce-3fc2-4bae-e6bc-1387fb60ef8d"
      },
      "execution_count": 12,
      "outputs": [
        {
          "output_type": "execute_result",
          "data": {
            "text/plain": [
              "10181"
            ]
          },
          "metadata": {},
          "execution_count": 12
        }
      ]
    },
    {
      "cell_type": "markdown",
      "source": [
        "# Abfrage Prüfungen"
      ],
      "metadata": {
        "id": "WX67k8X2cIAf"
      }
    },
    {
      "cell_type": "code",
      "source": [
        "URL = 'https://www.uni-mannheim.de/pruefungstermine/pruefungen-ersttermine-bachelor/' \n",
        "website = requests.get(URL)\n",
        "soup = BeautifulSoup(website.text, 'html.parser')\n",
        "\n",
        "list=soup.find_all('div',{'class': 'tx-uma-portal-exam-category'})\n",
        "\n",
        "prüfungen = 0\n",
        "\n",
        "\n",
        "for i in list:\n",
        "  print(i.find('h2'))\n",
        "  for t in (i.find_all('td')):\n",
        "    if \"2022\" in t.text:\n",
        "      print(t.text)\n",
        "      # Aufaddieren der Prüfungen am aktuellen Tag\n",
        "      dates_test=t.text\n",
        "      dates_prüfungen = datetime.strptime(dates_test, '%d.%m.%Y')\n",
        "      if today == dates_prüfungen:\n",
        "        prüfungen += 1"
      ],
      "metadata": {
        "colab": {
          "base_uri": "https://localhost:8080/"
        },
        "id": "tsNJAeZCcJk9",
        "outputId": "802d1d71-f34e-4317-b01f-cf102a11f391"
      },
      "execution_count": 13,
      "outputs": [
        {
          "output_type": "stream",
          "name": "stdout",
          "text": [
            "<h2>Bachelor Anglistik/<wbr/>Amerikanistik / CELLS</h2>\n",
            "04.06.2022\n",
            "07.06.2022\n",
            "07.06.2022\n",
            "08.06.2022\n",
            "08.06.2022\n",
            "09.06.2022\n",
            "09.06.2022\n",
            "10.06.2022\n",
            "10.06.2022\n",
            "10.06.2022\n",
            "11.06.2022\n",
            "11.06.2022\n",
            "11.06.2022\n",
            "13.06.2022\n",
            "13.06.2022\n",
            "13.06.2022\n",
            "14.06.2022\n",
            "14.06.2022\n",
            "14.06.2022\n",
            "15.06.2022\n",
            "15.06.2022\n",
            "15.06.2022\n",
            "17.06.2022\n",
            "17.06.2022\n",
            "17.06.2022\n",
            "18.06.2022\n",
            "<h2>Bachelor Beifach Öffentliches Recht</h2>\n",
            "09.06.2022\n",
            "13.06.2022\n",
            "<h2>Bachelor Beifach Psychologie</h2>\n",
            "04.06.2022\n",
            "04.06.2022\n",
            "07.06.2022\n",
            "08.06.2022\n",
            "09.06.2022\n",
            "<h2>Bachelor Betriebs­wirtschafts­lehre 2. Semester</h2>\n",
            "04.06.2022\n",
            "08.06.2022\n",
            "14.06.2022\n",
            "17.06.2022\n",
            "<h2>Bachelor Betriebs­wirtschafts­lehre 4. Semester</h2>\n",
            "06.04.2022\n",
            "07.04.2022\n",
            "08.04.2022\n",
            "08.04.2022\n",
            "27.04.2022\n",
            "06.05.2022\n",
            "20.05.2022\n",
            "20.05.2022\n",
            "07.06.2022\n",
            "09.06.2022\n",
            "10.06.2022\n",
            "10.06.2022\n",
            "10.06.2022\n",
            "11.06.2022\n",
            "11.06.2022\n",
            "13.06.2022\n",
            "13.06.2022\n",
            "15.06.2022\n",
            "18.06.2022\n",
            "18.06.2022\n",
            "<h2>Bachelor Betriebs­wirtschafts­lehre 6. Semester</h2>\n",
            "28.03.2022\n",
            "30.03.2022\n",
            "01.04.2022\n",
            "08.06.2022\n",
            "13.06.2022\n",
            "<h2>Bachelor Exchange Students</h2>\n",
            "04.04.2022\n",
            "07.06.2022\n",
            "08.06.2022\n",
            "<h2>Bachelor Germanistik</h2>\n",
            "02.04.2022\n",
            "13.06.2022\n",
            "15.06.2022\n",
            "17.06.2022\n",
            "<h2>Bachelor Geschichte</h2>\n",
            "09.06.2022\n",
            "10.06.2022\n",
            "11.06.2022\n",
            "14.06.2022\n",
            "17.06.2022\n",
            "<h2>Bachelor Kultur und Wirtschaft Sachfach BWL</h2>\n",
            "04.06.2022\n",
            "11.06.2022\n",
            "13.06.2022\n",
            "17.06.2022\n",
            "<h2>Bachelor Medien- und Kommunikations­wissenschaft</h2>\n",
            "07.06.2022\n",
            "10.06.2022\n",
            "15.06.2022\n",
            "17.06.2022\n",
            "17.06.2022\n",
            "<h2>Bachelor Philosophie</h2>\n",
            "08.06.2022\n",
            "13.06.2022\n",
            "15.06.2022\n",
            "<h2>Bachelor Politik­wissenschaft</h2>\n",
            "25.05.2022\n",
            "08.06.2022\n",
            "09.06.2022\n",
            "10.06.2022\n",
            "15.06.2022\n",
            "17.06.2022\n",
            "<h2>Bachelor Psychologie</h2>\n",
            "04.06.2022\n",
            "07.06.2022\n",
            "08.06.2022\n",
            "08.06.2022\n",
            "08.06.2022\n",
            "09.06.2022\n",
            "10.06.2022\n",
            "14.06.2022\n",
            "14.06.2022\n",
            "15.06.2022\n",
            "17.06.2022\n",
            "18.06.2022\n",
            "18.06.2022\n",
            "29.08.2022\n",
            "<h2>Bachelor Romanistik</h2>\n",
            "04.06.2022\n",
            "04.06.2022\n",
            "04.06.2022\n",
            "04.06.2022\n",
            "07.06.2022\n",
            "07.06.2022\n",
            "07.06.2022\n",
            "07.06.2022\n",
            "07.06.2022\n",
            "08.06.2022\n",
            "08.06.2022\n",
            "08.06.2022\n",
            "08.06.2022\n",
            "08.06.2022\n",
            "09.06.2022\n",
            "09.06.2022\n",
            "09.06.2022\n",
            "09.06.2022\n",
            "10.06.2022\n",
            "10.06.2022\n",
            "10.06.2022\n",
            "10.06.2022\n",
            "11.06.2022\n",
            "11.06.2022\n",
            "11.06.2022\n",
            "13.06.2022\n",
            "13.06.2022\n",
            "13.06.2022\n",
            "13.06.2022\n",
            "13.06.2022\n",
            "13.06.2022\n",
            "14.06.2022\n",
            "14.06.2022\n",
            "14.06.2022\n",
            "14.06.2022\n",
            "14.06.2022\n",
            "14.06.2022\n",
            "14.06.2022\n",
            "15.06.2022\n",
            "15.06.2022\n",
            "15.06.2022\n",
            "15.06.2022\n",
            "15.06.2022\n",
            "17.06.2022\n",
            "17.06.2022\n",
            "17.06.2022\n",
            "17.06.2022\n",
            "17.06.2022\n",
            "17.06.2022\n",
            "18.06.2022\n",
            "<h2>Bachelor Soziologie</h2>\n",
            "04.04.2022\n",
            "08.06.2022\n",
            "08.06.2022\n",
            "09.06.2022\n",
            "10.06.2022\n",
            "14.06.2022\n",
            "17.06.2022\n",
            "<h2>Bachelor Volkswirtschafts­lehre 2. Semester</h2>\n",
            "09.06.2022\n",
            "11.06.2022\n",
            "11.06.2022\n",
            "18.06.2022\n",
            "18.06.2022\n",
            "<h2>Bachelor Volkswirtschafts­lehre 4. Semester</h2>\n",
            "07.06.2022\n",
            "10.06.2022\n",
            "15.06.2022\n",
            "<h2>Bachelor Volkswirtschafts­lehre 6. Semester</h2>\n",
            "04.06.2022\n",
            "04.06.2022\n",
            "07.06.2022\n",
            "07.06.2022\n",
            "08.06.2022\n",
            "08.06.2022\n",
            "09.06.2022\n",
            "09.06.2022\n",
            "10.06.2022\n",
            "10.06.2022\n",
            "13.06.2022\n",
            "13.06.2022\n",
            "13.06.2022\n",
            "14.06.2022\n",
            "14.06.2022\n",
            "15.06.2022\n",
            "17.06.2022\n",
            "17.06.2022\n",
            "17.06.2022\n",
            "18.06.2022\n",
            "<h2>Bachelor Wirtschafts­informatik</h2>\n",
            "05.04.2022\n",
            "04.06.2022\n",
            "04.06.2022\n",
            "07.06.2022\n",
            "08.06.2022\n",
            "09.06.2022\n",
            "10.06.2022\n",
            "11.06.2022\n",
            "13.06.2022\n",
            "14.06.2022\n",
            "15.06.2022\n",
            "17.06.2022\n",
            "18.06.2022\n",
            "<h2>Bachelor Wirtschafts­mathematik</h2>\n",
            "30.04.2022\n",
            "03.06.2022\n",
            "04.06.2022\n",
            "07.06.2022\n",
            "08.06.2022\n",
            "09.06.2022\n",
            "11.06.2022\n",
            "11.06.2022\n",
            "13.06.2022\n",
            "14.06.2022\n",
            "15.06.2022\n",
            "15.06.2022\n",
            "17.06.2022\n",
            "18.06.2022\n",
            "18.06.2022\n",
            "<h2>Bachelor Wirtschafts­pädagogik 2. Semester</h2>\n",
            "04.06.2022\n",
            "08.06.2022\n",
            "13.06.2022\n",
            "15.06.2022\n",
            "<h2>Bachelor Wirtschafts­pädagogik  4. Semester</h2>\n",
            "07.06.2022\n",
            "09.06.2022\n",
            "11.06.2022\n",
            "11.06.2022\n",
            "14.06.2022\n",
            "18.06.2022\n",
            "18.06.2022\n",
            "<h2>Bachelor Wirtschafts­pädagogik 6. Semester</h2>\n",
            "17.06.2022\n",
            "<h2>Kombinations­studien­gang Unternehmens­jurist (LL.B./<wbr/>Staats­examen)</h2>\n",
            "26.02.2022\n",
            "04.03.2022\n",
            "09.03.2022\n",
            "11.03.2022\n",
            "15.03.2022\n",
            "18.03.2022\n",
            "19.03.2022\n",
            "26.03.2022\n",
            "04.04.2022\n",
            "06.04.2022\n",
            "09.04.2022\n",
            "26.04.2022\n",
            "29.04.2022\n",
            "06.05.2022\n",
            "07.05.2022\n",
            "11.05.2022\n",
            "13.05.2022\n",
            "17.05.2022\n",
            "21.05.2022\n",
            "23.05.2022\n",
            "27.05.2022\n",
            "03.06.2022\n",
            "04.06.2022\n",
            "08.06.2022\n",
            "09.06.2022\n",
            "10.06.2022\n",
            "11.06.2022\n",
            "13.06.2022\n",
            "14.06.2022\n",
            "15.06.2022\n",
            "17.06.2022\n",
            "21.07.2022\n"
          ]
        }
      ]
    },
    {
      "cell_type": "code",
      "source": [
        "prüfungen"
      ],
      "metadata": {
        "colab": {
          "base_uri": "https://localhost:8080/"
        },
        "id": "WRkO00lIgU7_",
        "outputId": "802c991f-d695-4c9c-b6c9-d71578518642"
      },
      "execution_count": 14,
      "outputs": [
        {
          "output_type": "execute_result",
          "data": {
            "text/plain": [
              "0"
            ]
          },
          "metadata": {},
          "execution_count": 14
        }
      ]
    },
    {
      "cell_type": "markdown",
      "source": [
        "# Geldfaktor"
      ],
      "metadata": {
        "id": "VQKET3pmiNlX"
      }
    },
    {
      "cell_type": "code",
      "source": [
        "#In der Regel bekommt man Ende des Montas das gehalt\n",
        "gehalt = str(25)+'-'+str(month)+'-'+str(year)\n",
        "gehalt = datetime.strptime(gehalt,'%d-%m-%Y').date()\n",
        "#In der Mitte des Monats ist am wenigsten Geld vorhanden \n",
        "gehalt_weg = str(15)+'-'+str(month)+'-'+str(year)\n",
        "gehalt_weg = datetime.strptime(gehalt_weg,'%d-%m-%Y').date()\n",
        "\n",
        "if today > gehalt or today < gehalt_weg: \n",
        "  geldfaktor = 5\n",
        "else:\n",
        "  geldfaktor = -5\n",
        "geldfaktor"
      ],
      "metadata": {
        "colab": {
          "base_uri": "https://localhost:8080/"
        },
        "id": "WPm2TteCiotJ",
        "outputId": "da870de3-ecb3-4a09-e1d6-92f2150bae8a"
      },
      "execution_count": 15,
      "outputs": [
        {
          "output_type": "execute_result",
          "data": {
            "text/plain": [
              "5"
            ]
          },
          "metadata": {},
          "execution_count": 15
        }
      ]
    },
    {
      "cell_type": "markdown",
      "source": [
        "## Barometererrechnung "
      ],
      "metadata": {
        "id": "RPtzgHqto3fy"
      }
    },
    {
      "cell_type": "code",
      "source": [
        "base = 100\n",
        "\n",
        "# Geldfaktor\n",
        "base += geldfaktor\n",
        "print(base)\n",
        "# Anzahl Prüfungen --> Gewichtung Prüfungen mal Studenten mit einer Skalierung von 10000, da die Studenten im 10000 Bereich sind \n",
        "prüfungen = prüfungen / studenten *10000\n",
        "base += prüfungen\n",
        "print(base)\n",
        "\n",
        "# Events --> Faktor 10 um die Events stärker zu gewichten\n",
        "events_value = events * 10 \n",
        "base += events_value\n",
        "print(base)\n",
        "\n",
        "# Wetterfaktor --> Faktor 10 um das Wetter stärker zu gewichten\n",
        "weather_value = b * 10\n",
        "base -= weather_value\n",
        "print(base)\n"
      ],
      "metadata": {
        "id": "otsDJvFTq1NU",
        "outputId": "b6a8694b-fff0-4351-f824-3c7d32542905",
        "colab": {
          "base_uri": "https://localhost:8080/"
        }
      },
      "execution_count": 28,
      "outputs": [
        {
          "output_type": "stream",
          "name": "stdout",
          "text": [
            "105\n",
            "105.0\n",
            "115.0\n",
            "115.0\n"
          ]
        }
      ]
    },
    {
      "cell_type": "code",
      "source": [
        "### Install ngrok\n",
        "!wget https://bin.equinox.io/c/4VmDzA7iaHb/ngrok-stable-linux-amd64.zip\n",
        "!unzip ngrok-stable-linux-amd64.zip\n",
        "\n",
        "### Run ngrok to tunnel Dash app port 8050 to the outside world. \n",
        "### This command runs in the background.\n",
        "get_ipython().system_raw('./ngrok http 8050 &')\n",
        "\n",
        "### Get the public URL where you can access the Dash app. Copy this URL.\n",
        "! curl -s http://localhost:4040/api/tunnels | python3 -c \\\n",
        "    \"import sys, json; print(json.load(sys.stdin)['tunnels'][0]['public_url'])\""
      ],
      "metadata": {
        "id": "hCZekYd33PB9",
        "outputId": "700ca65b-05c6-4130-ff60-af9b1f4c05b1",
        "colab": {
          "base_uri": "https://localhost:8080/"
        }
      },
      "execution_count": 17,
      "outputs": [
        {
          "output_type": "stream",
          "name": "stdout",
          "text": [
            "--2022-08-12 02:40:09--  https://bin.equinox.io/c/4VmDzA7iaHb/ngrok-stable-linux-amd64.zip\n",
            "Resolving bin.equinox.io (bin.equinox.io)... 52.202.168.65, 54.237.133.81, 18.205.222.128, ...\n",
            "Connecting to bin.equinox.io (bin.equinox.io)|52.202.168.65|:443... connected.\n",
            "HTTP request sent, awaiting response... 200 OK\n",
            "Length: 13832437 (13M) [application/octet-stream]\n",
            "Saving to: ‘ngrok-stable-linux-amd64.zip’\n",
            "\n",
            "ngrok-stable-linux- 100%[===================>]  13.19M  19.2MB/s    in 0.7s    \n",
            "\n",
            "2022-08-12 02:40:10 (19.2 MB/s) - ‘ngrok-stable-linux-amd64.zip’ saved [13832437/13832437]\n",
            "\n",
            "Archive:  ngrok-stable-linux-amd64.zip\n",
            "  inflating: ngrok                   \n",
            "Traceback (most recent call last):\n",
            "  File \"<string>\", line 1, in <module>\n",
            "IndexError: list index out of range\n"
          ]
        }
      ]
    },
    {
      "cell_type": "code",
      "source": [
        "!pip install dash\n",
        "!pip install dash_html_components"
      ],
      "metadata": {
        "id": "8v2rhmcCuVGE",
        "outputId": "03882092-7a01-40fe-a654-ee62529786f0",
        "colab": {
          "base_uri": "https://localhost:8080/"
        }
      },
      "execution_count": 18,
      "outputs": [
        {
          "output_type": "stream",
          "name": "stdout",
          "text": [
            "Looking in indexes: https://pypi.org/simple, https://us-python.pkg.dev/colab-wheels/public/simple/\n",
            "Requirement already satisfied: dash in /usr/local/lib/python3.7/dist-packages (2.6.1)\n",
            "Requirement already satisfied: dash-html-components==2.0.0 in /usr/local/lib/python3.7/dist-packages (from dash) (2.0.0)\n",
            "Requirement already satisfied: flask-compress in /usr/local/lib/python3.7/dist-packages (from dash) (1.12)\n",
            "Requirement already satisfied: plotly>=5.0.0 in /usr/local/lib/python3.7/dist-packages (from dash) (5.5.0)\n",
            "Requirement already satisfied: Flask>=1.0.4 in /usr/local/lib/python3.7/dist-packages (from dash) (1.1.4)\n",
            "Requirement already satisfied: dash-table==5.0.0 in /usr/local/lib/python3.7/dist-packages (from dash) (5.0.0)\n",
            "Requirement already satisfied: dash-core-components==2.0.0 in /usr/local/lib/python3.7/dist-packages (from dash) (2.0.0)\n",
            "Requirement already satisfied: Jinja2<3.0,>=2.10.1 in /usr/local/lib/python3.7/dist-packages (from Flask>=1.0.4->dash) (2.11.3)\n",
            "Requirement already satisfied: click<8.0,>=5.1 in /usr/local/lib/python3.7/dist-packages (from Flask>=1.0.4->dash) (7.1.2)\n",
            "Requirement already satisfied: itsdangerous<2.0,>=0.24 in /usr/local/lib/python3.7/dist-packages (from Flask>=1.0.4->dash) (1.1.0)\n",
            "Requirement already satisfied: Werkzeug<2.0,>=0.15 in /usr/local/lib/python3.7/dist-packages (from Flask>=1.0.4->dash) (1.0.1)\n",
            "Requirement already satisfied: MarkupSafe>=0.23 in /usr/local/lib/python3.7/dist-packages (from Jinja2<3.0,>=2.10.1->Flask>=1.0.4->dash) (2.0.1)\n",
            "Requirement already satisfied: tenacity>=6.2.0 in /usr/local/lib/python3.7/dist-packages (from plotly>=5.0.0->dash) (8.0.1)\n",
            "Requirement already satisfied: six in /usr/local/lib/python3.7/dist-packages (from plotly>=5.0.0->dash) (1.15.0)\n",
            "Requirement already satisfied: brotli in /usr/local/lib/python3.7/dist-packages (from flask-compress->dash) (1.0.9)\n",
            "Looking in indexes: https://pypi.org/simple, https://us-python.pkg.dev/colab-wheels/public/simple/\n",
            "Requirement already satisfied: dash_html_components in /usr/local/lib/python3.7/dist-packages (2.0.0)\n"
          ]
        }
      ]
    },
    {
      "cell_type": "code",
      "source": [
        "!pip install jupyter-dash"
      ],
      "metadata": {
        "id": "_o-sQW6e60NF",
        "outputId": "f4b83a53-c4fa-4675-a30d-8a6ecd8e92ca",
        "colab": {
          "base_uri": "https://localhost:8080/"
        }
      },
      "execution_count": 19,
      "outputs": [
        {
          "output_type": "stream",
          "name": "stdout",
          "text": [
            "Looking in indexes: https://pypi.org/simple, https://us-python.pkg.dev/colab-wheels/public/simple/\n",
            "Requirement already satisfied: jupyter-dash in /usr/local/lib/python3.7/dist-packages (0.4.2)\n",
            "Requirement already satisfied: retrying in /usr/local/lib/python3.7/dist-packages (from jupyter-dash) (1.3.3)\n",
            "Requirement already satisfied: ipykernel in /usr/local/lib/python3.7/dist-packages (from jupyter-dash) (4.10.1)\n",
            "Requirement already satisfied: nest-asyncio in /usr/local/lib/python3.7/dist-packages (from jupyter-dash) (1.5.5)\n",
            "Requirement already satisfied: ipython in /usr/local/lib/python3.7/dist-packages (from jupyter-dash) (5.5.0)\n",
            "Requirement already satisfied: requests in /usr/local/lib/python3.7/dist-packages (from jupyter-dash) (2.23.0)\n",
            "Requirement already satisfied: ansi2html in /usr/local/lib/python3.7/dist-packages (from jupyter-dash) (1.8.0)\n",
            "Requirement already satisfied: flask in /usr/local/lib/python3.7/dist-packages (from jupyter-dash) (1.1.4)\n",
            "Requirement already satisfied: dash in /usr/local/lib/python3.7/dist-packages (from jupyter-dash) (2.6.1)\n",
            "Requirement already satisfied: importlib-metadata in /usr/local/lib/python3.7/dist-packages (from ansi2html->jupyter-dash) (4.12.0)\n",
            "Requirement already satisfied: flask-compress in /usr/local/lib/python3.7/dist-packages (from dash->jupyter-dash) (1.12)\n",
            "Requirement already satisfied: dash-core-components==2.0.0 in /usr/local/lib/python3.7/dist-packages (from dash->jupyter-dash) (2.0.0)\n",
            "Requirement already satisfied: dash-html-components==2.0.0 in /usr/local/lib/python3.7/dist-packages (from dash->jupyter-dash) (2.0.0)\n",
            "Requirement already satisfied: plotly>=5.0.0 in /usr/local/lib/python3.7/dist-packages (from dash->jupyter-dash) (5.5.0)\n",
            "Requirement already satisfied: dash-table==5.0.0 in /usr/local/lib/python3.7/dist-packages (from dash->jupyter-dash) (5.0.0)\n",
            "Requirement already satisfied: itsdangerous<2.0,>=0.24 in /usr/local/lib/python3.7/dist-packages (from flask->jupyter-dash) (1.1.0)\n",
            "Requirement already satisfied: click<8.0,>=5.1 in /usr/local/lib/python3.7/dist-packages (from flask->jupyter-dash) (7.1.2)\n",
            "Requirement already satisfied: Werkzeug<2.0,>=0.15 in /usr/local/lib/python3.7/dist-packages (from flask->jupyter-dash) (1.0.1)\n",
            "Requirement already satisfied: Jinja2<3.0,>=2.10.1 in /usr/local/lib/python3.7/dist-packages (from flask->jupyter-dash) (2.11.3)\n",
            "Requirement already satisfied: MarkupSafe>=0.23 in /usr/local/lib/python3.7/dist-packages (from Jinja2<3.0,>=2.10.1->flask->jupyter-dash) (2.0.1)\n",
            "Requirement already satisfied: six in /usr/local/lib/python3.7/dist-packages (from plotly>=5.0.0->dash->jupyter-dash) (1.15.0)\n",
            "Requirement already satisfied: tenacity>=6.2.0 in /usr/local/lib/python3.7/dist-packages (from plotly>=5.0.0->dash->jupyter-dash) (8.0.1)\n",
            "Requirement already satisfied: brotli in /usr/local/lib/python3.7/dist-packages (from flask-compress->dash->jupyter-dash) (1.0.9)\n",
            "Requirement already satisfied: typing-extensions>=3.6.4 in /usr/local/lib/python3.7/dist-packages (from importlib-metadata->ansi2html->jupyter-dash) (4.1.1)\n",
            "Requirement already satisfied: zipp>=0.5 in /usr/local/lib/python3.7/dist-packages (from importlib-metadata->ansi2html->jupyter-dash) (3.8.1)\n",
            "Requirement already satisfied: tornado>=4.0 in /usr/local/lib/python3.7/dist-packages (from ipykernel->jupyter-dash) (5.1.1)\n",
            "Requirement already satisfied: jupyter-client in /usr/local/lib/python3.7/dist-packages (from ipykernel->jupyter-dash) (5.3.5)\n",
            "Requirement already satisfied: traitlets>=4.1.0 in /usr/local/lib/python3.7/dist-packages (from ipykernel->jupyter-dash) (5.1.1)\n",
            "Requirement already satisfied: pygments in /usr/local/lib/python3.7/dist-packages (from ipython->jupyter-dash) (2.6.1)\n",
            "Requirement already satisfied: pexpect in /usr/local/lib/python3.7/dist-packages (from ipython->jupyter-dash) (4.8.0)\n",
            "Requirement already satisfied: setuptools>=18.5 in /usr/local/lib/python3.7/dist-packages (from ipython->jupyter-dash) (57.4.0)\n",
            "Requirement already satisfied: simplegeneric>0.8 in /usr/local/lib/python3.7/dist-packages (from ipython->jupyter-dash) (0.8.1)\n",
            "Requirement already satisfied: pickleshare in /usr/local/lib/python3.7/dist-packages (from ipython->jupyter-dash) (0.7.5)\n",
            "Requirement already satisfied: decorator in /usr/local/lib/python3.7/dist-packages (from ipython->jupyter-dash) (4.4.2)\n",
            "Requirement already satisfied: prompt-toolkit<2.0.0,>=1.0.4 in /usr/local/lib/python3.7/dist-packages (from ipython->jupyter-dash) (1.0.18)\n",
            "Requirement already satisfied: wcwidth in /usr/local/lib/python3.7/dist-packages (from prompt-toolkit<2.0.0,>=1.0.4->ipython->jupyter-dash) (0.2.5)\n",
            "Requirement already satisfied: jupyter-core>=4.6.0 in /usr/local/lib/python3.7/dist-packages (from jupyter-client->ipykernel->jupyter-dash) (4.11.1)\n",
            "Requirement already satisfied: pyzmq>=13 in /usr/local/lib/python3.7/dist-packages (from jupyter-client->ipykernel->jupyter-dash) (23.2.0)\n",
            "Requirement already satisfied: python-dateutil>=2.1 in /usr/local/lib/python3.7/dist-packages (from jupyter-client->ipykernel->jupyter-dash) (2.8.2)\n",
            "Requirement already satisfied: ptyprocess>=0.5 in /usr/local/lib/python3.7/dist-packages (from pexpect->ipython->jupyter-dash) (0.7.0)\n",
            "Requirement already satisfied: certifi>=2017.4.17 in /usr/local/lib/python3.7/dist-packages (from requests->jupyter-dash) (2022.6.15)\n",
            "Requirement already satisfied: chardet<4,>=3.0.2 in /usr/local/lib/python3.7/dist-packages (from requests->jupyter-dash) (3.0.4)\n",
            "Requirement already satisfied: urllib3!=1.25.0,!=1.25.1,<1.26,>=1.21.1 in /usr/local/lib/python3.7/dist-packages (from requests->jupyter-dash) (1.24.3)\n",
            "Requirement already satisfied: idna<3,>=2.5 in /usr/local/lib/python3.7/dist-packages (from requests->jupyter-dash) (2.10)\n"
          ]
        }
      ]
    },
    {
      "cell_type": "code",
      "source": [
        "from jupyter_dash import JupyterDash\n",
        "import dash\n",
        "import dash_html_components as html\n",
        "import dash_core_components as dcc\n",
        "\n",
        "import plotly.graph_objects as go\n",
        "trace1 = go.Indicator(mode=\"gauge+number\",    \n",
        "                      value=base,    domain={'x': [0.0, 0.4], 'y': [0.0, 1]},    \n",
        "                      title={'text': 'Partybarometer'},\n",
        "                      gauge = {'axis': {'range': [None, 1]}})\n",
        "fig = go.Figure(go.Indicator(\n",
        "    domain = {'x': [0, 1], 'y': [0, 1]},\n",
        "    value = base,\n",
        "    mode = \"gauge+number+delta\",\n",
        "    title = {'text': \"Speed\"},\n",
        "    delta = {'reference': 100},\n",
        "    gauge = {'axis': {'range': [None, base+100]},\n",
        "             'steps' : [\n",
        "                 {'range': [0, 250], 'color': \"lightgray\"},\n",
        "                 {'range': [250, 400], 'color': \"gray\"}],\n",
        "             'threshold' : {'line': {'color': \"red\", 'width': 4}, 'thickness': 0.75, 'value': 100}}))\n",
        "\n",
        "external_stylesheets = ['https://codepen.io/chriddyp/pen/bWLwgP.css']\n",
        "\n",
        "app = JupyterDash(__name__, external_stylesheets=external_stylesheets)\n",
        "\n",
        "app.layout = html.Div(children=[\n",
        "    # All elements from the top of the page\n",
        "    html.Div([\n",
        "        html.H1(children='Barometer'),\n",
        "\n",
        "        html.Div(children='''\n",
        "            Das Barometer hat folgendes ermittelt.\n",
        "        '''),\n",
        "\n",
        "        dcc.Graph(\n",
        "            id='graph1',\n",
        "            figure=fig\n",
        "        ),\n",
        "    ]),\n",
        "])\n",
        "if __name__ == '__main__':\n",
        "    app.run_server(debug=True)"
      ],
      "metadata": {
        "id": "RVlCVQLluJPO",
        "outputId": "8f1b67c0-6af5-4b3f-be5a-6609d78aad17",
        "colab": {
          "base_uri": "https://localhost:8080/",
          "height": 52
        }
      },
      "execution_count": 35,
      "outputs": [
        {
          "output_type": "stream",
          "name": "stdout",
          "text": [
            "Dash app running on:\n"
          ]
        },
        {
          "output_type": "display_data",
          "data": {
            "text/plain": [
              "<IPython.core.display.Javascript object>"
            ],
            "application/javascript": [
              "(async (port, path, text, element) => {\n",
              "    if (!google.colab.kernel.accessAllowed) {\n",
              "      return;\n",
              "    }\n",
              "    element.appendChild(document.createTextNode(''));\n",
              "    const url = await google.colab.kernel.proxyPort(port);\n",
              "    const anchor = document.createElement('a');\n",
              "    anchor.href = new URL(path, url).toString();\n",
              "    anchor.target = '_blank';\n",
              "    anchor.setAttribute('data-href', url + path);\n",
              "    anchor.textContent = text;\n",
              "    element.appendChild(anchor);\n",
              "  })(8050, \"/\", \"http://127.0.0.1:8050/\", window.element)"
            ]
          },
          "metadata": {}
        }
      ]
    }
  ]
}