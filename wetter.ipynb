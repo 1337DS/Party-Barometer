{
  "nbformat": 4,
  "nbformat_minor": 0,
  "metadata": {
    "colab": {
      "name": "wetter.ipynb",
      "provenance": [],
      "collapsed_sections": [],
      "include_colab_link": true
    },
    "kernelspec": {
      "name": "python3",
      "display_name": "Python 3"
    },
    "language_info": {
      "name": "python"
    }
  },
  "cells": [
    {
      "cell_type": "markdown",
      "metadata": {
        "id": "view-in-github",
        "colab_type": "text"
      },
      "source": [
        "<a href=\"https://colab.research.google.com/github/1337DS/Party-Barometer/blob/teil2_einzelwertung/wetter.ipynb\" target=\"_parent\"><img src=\"https://colab.research.google.com/assets/colab-badge.svg\" alt=\"Open In Colab\"/></a>"
      ]
    },
    {
      "cell_type": "code",
      "execution_count": null,
      "metadata": {
        "colab": {
          "base_uri": "https://localhost:8080/"
        },
        "id": "ccX_Z6Hyk4aV",
        "outputId": "4a83b303-0573-49c6-e590-b0447e0b66f9"
      },
      "outputs": [
        {
          "output_type": "stream",
          "name": "stdout",
          "text": [
            "Looking in indexes: https://pypi.org/simple, https://us-python.pkg.dev/colab-wheels/public/simple/\n",
            "Requirement already satisfied: requests in /usr/local/lib/python3.7/dist-packages (2.23.0)\n",
            "Requirement already satisfied: certifi>=2017.4.17 in /usr/local/lib/python3.7/dist-packages (from requests) (2022.6.15)\n",
            "Requirement already satisfied: urllib3!=1.25.0,!=1.25.1,<1.26,>=1.21.1 in /usr/local/lib/python3.7/dist-packages (from requests) (1.24.3)\n",
            "Requirement already satisfied: idna<3,>=2.5 in /usr/local/lib/python3.7/dist-packages (from requests) (2.10)\n",
            "Requirement already satisfied: chardet<4,>=3.0.2 in /usr/local/lib/python3.7/dist-packages (from requests) (3.0.4)\n"
          ]
        }
      ],
      "source": [
        "!pip3 install requests"
      ]
    },
    {
      "cell_type": "code",
      "source": [
        "import requests\n",
        "from datetime import datetime, timedelta\n"
      ],
      "metadata": {
        "id": "hFJLizMg4fxe"
      },
      "execution_count": null,
      "outputs": []
    },
    {
      "cell_type": "markdown",
      "source": [
        "# Abfrage Regen"
      ],
      "metadata": {
        "id": "wtcmwGfJvf9a"
      }
    },
    {
      "cell_type": "code",
      "source": [
        "def calc_regenscore():\n",
        "  \"\"\"Frägt die Wettervorhersage für Mannheim im 3-Std Rhythmus ab und gibt zurück, an wievielen Zeitpunkten zwischen heute 18:00 \n",
        "  und morgen 03:00 Uhr die Wettervorhersage Regen beinhaltet\"\"\"\n",
        "  api_key = \"ca43b31915cb2b6af64970e1835b94d6\"  # Bitte nicht missbrauchen\n",
        "  base_url = \"http://api.openweathermap.org/data/2.5/forecast?\"\n",
        "\n",
        "  #city_name = input(\"Enter city name : \")\n",
        "  city_name=\"Mannheim\"\n",
        "  complete_url = base_url + \"appid=\" + 'd850f7f52bf19300a9eb4b0aa6b80f0d' + \"&q=\" + city_name  # Vervollständigung der URL\n",
        "  response = requests.get(complete_url)\n",
        "  antwort_json = response.json()\n",
        "\n",
        "\n",
        "  if antwort_json[\"cod\"] != \"404\":\n",
        "      regenscore=0\n",
        "      for vorhersage_punkt in antwort_json[\"list\"]:\n",
        "        #print(vorhersage_punkt[\"dt_txt\"][-12:])\n",
        "        kalendertag = datetime.today().strftime(\"%d\")\n",
        "        kalendertag_morgen = datetime.today() + timedelta(days=1)\n",
        "        kalendertag_morgen=kalendertag_morgen.strftime(\"%d\")\n",
        "        \n",
        "        if (vorhersage_punkt[\"dt_txt\"][-11:] in [kalendertag+' 18:00:00',kalendertag+' 21:00:00'])or vorhersage_punkt[\"dt_txt\"][-11:] in [kalendertag_morgen+' 00:00:00',kalendertag_morgen+' 03:00:00']:\n",
        "        \n",
        "        #if vorhersage_punkt[\"dt_txt\"][-11:] in [kalendertag_morgen+ ' 00:00:00',kalendertag_morgen+' 03:00:00']:\n",
        "\n",
        "        # evtl kann man hier noch die Temperatur mit einbeziehen\n",
        "        # z.B. wenn es viel zu heiss oder zu kalt ist\n",
        "        # current_temperature = y[\"temp\"]\n",
        "        \n",
        "          wetterdaten = vorhersage_punkt[\"weather\"]\n",
        "          weather_description = wetterdaten[0][\"description\"]\n",
        "      #    weather_main = wetterdaten[0][\"main\"]\n",
        "\n",
        "          print(vorhersage_punkt[\"dt_txt\"]+\" Wetter (Beschreibung) = \" +\n",
        "                          str(weather_description))\n",
        "                          # \" Wetter (main) = \" +\n",
        "                          # str(weather_main))\n",
        "    \n",
        "          if 'rain' in weather_description:\n",
        "              regenscore+=1\n",
        "              print(regenscore)\n",
        "\n",
        "        return regenscore \n",
        "\n",
        "  else:\n",
        "      print(\" Fehler bei Abfrage der Wetterdaten\")"
      ],
      "metadata": {
        "id": "GUFfFoE-4RSU"
      },
      "execution_count": null,
      "outputs": []
    },
    {
      "cell_type": "code",
      "source": [
        "b=calc_regenscore()"
      ],
      "metadata": {
        "id": "T2KRZpPQ6Wtp"
      },
      "execution_count": null,
      "outputs": []
    },
    {
      "cell_type": "code",
      "source": [
        "print(b)"
      ],
      "metadata": {
        "colab": {
          "base_uri": "https://localhost:8080/"
        },
        "id": "PhFBKvCt6ZxW",
        "outputId": "e9cf9ca6-50e6-4bbb-f313-f02c3438eeb8"
      },
      "execution_count": null,
      "outputs": [
        {
          "output_type": "stream",
          "name": "stdout",
          "text": [
            "0\n"
          ]
        }
      ]
    }
  ]
}